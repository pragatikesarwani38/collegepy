{
 "cells": [
  {
   "cell_type": "code",
   "execution_count": 1,
   "metadata": {},
   "outputs": [
    {
     "name": "stdout",
     "output_type": "stream",
     "text": [
      "Hello World\n"
     ]
    }
   ],
   "source": [
    "print('Hello World') #first"
   ]
  },
  {
   "cell_type": "code",
   "execution_count": 2,
   "metadata": {},
   "outputs": [
    {
     "name": "stdout",
     "output_type": "stream",
     "text": [
      "Enter first number4\n",
      "Enter second number3\n",
      "7\n"
     ]
    }
   ],
   "source": [
    "a=int(input('Enter first number'))\n",
    "b=int(input('Enter second number'))\n",
    "c=a+b\n",
    "print(c) #second"
   ]
  },
  {
   "cell_type": "code",
   "execution_count": 3,
   "metadata": {},
   "outputs": [
    {
     "name": "stdout",
     "output_type": "stream",
     "text": [
      "Enter any number43\n",
      "6.557438524302\n"
     ]
    }
   ],
   "source": [
    "import math\n",
    "a=int(input('Enter any number'))\n",
    "b=math.sqrt(a)\n",
    "print(b) #third"
   ]
  },
  {
   "cell_type": "code",
   "execution_count": 4,
   "metadata": {},
   "outputs": [
    {
     "name": "stdout",
     "output_type": "stream",
     "text": [
      "Enter first side43\n",
      "Enter second side43\n",
      "Enter third side43\n",
      "800.6404857987135\n"
     ]
    }
   ],
   "source": [
    "a=float(input('Enter first side'))\n",
    "b=float(input('Enter second side'))\n",
    "c=float(input('Enter third side'))\n",
    "s=(a+b+c)/2\n",
    "area=(s*(s-a)*(s-b)*(s-c))**0.5\n",
    "print(area) #fourth"
   ]
  },
  {
   "cell_type": "code",
   "execution_count": 5,
   "metadata": {},
   "outputs": [
    {
     "name": "stdout",
     "output_type": "stream",
     "text": [
      "Enter value of a3\n",
      "Enter value of b4\n",
      "Enter value of c2\n",
      "(-0.6666666666666666+0.47140452079103173j)\n",
      "(-0.6666666666666666-0.47140452079103173j)\n"
     ]
    }
   ],
   "source": [
    "import cmath\n",
    "a=int(input('Enter value of a'))\n",
    "b=int(input('Enter value of b'))\n",
    "c=int(input('Enter value of c'))\n",
    "d=(b**2)-(4*a*c)\n",
    "r1=(-b+cmath.sqrt(d))/(2*a)\n",
    "r2=(-b-cmath.sqrt(d))/(2*a)\n",
    "print(r1)\n",
    "print(r2) #fifth"
   ]
  },
  {
   "cell_type": "code",
   "execution_count": 6,
   "metadata": {},
   "outputs": [
    {
     "name": "stdout",
     "output_type": "stream",
     "text": [
      "Enter value of a4\n",
      "Enter value of b3\n",
      "3\n",
      "4\n"
     ]
    }
   ],
   "source": [
    "a=int(input('Enter value of a'))\n",
    "b=int(input('Enter value of b'))\n",
    "c=a\n",
    "a=b\n",
    "b=c\n",
    "print(a)\n",
    "print(b) #sixth"
   ]
  },
  {
   "cell_type": "code",
   "execution_count": 7,
   "metadata": {},
   "outputs": [
    {
     "name": "stdout",
     "output_type": "stream",
     "text": [
      "35\n"
     ]
    }
   ],
   "source": [
    "import random\n",
    "print(random.randint(20,50)) #seventh"
   ]
  },
  {
   "cell_type": "code",
   "execution_count": 8,
   "metadata": {},
   "outputs": [
    {
     "name": "stdout",
     "output_type": "stream",
     "text": [
      "Enter value in km333\n",
      "206.916543\n"
     ]
    }
   ],
   "source": [
    "a=float(input('Enter value in km'))\n",
    "miles=a*0.621371\n",
    "print(miles)#eighth"
   ]
  },
  {
   "cell_type": "code",
   "execution_count": 9,
   "metadata": {},
   "outputs": [
    {
     "name": "stdout",
     "output_type": "stream",
     "text": [
      "Enter value in Celsius43\n",
      "109.4\n"
     ]
    }
   ],
   "source": [
    "a=float(input('Enter value in Celsius'))\n",
    "f=((9/5)*a)+32\n",
    "print(f)"
   ]
  },
  {
   "cell_type": "code",
   "execution_count": 10,
   "metadata": {},
   "outputs": [
    {
     "name": "stdout",
     "output_type": "stream",
     "text": [
      "Enter any number4\n",
      "Positive\n"
     ]
    }
   ],
   "source": [
    "a=int(input('Enter any number'))\n",
    "if a>0:\n",
    "    print('Positive')\n",
    "elif a<0:\n",
    "    print('Negative')\n",
    "else:\n",
    "    print('Zero')\n"
   ]
  },
  {
   "cell_type": "code",
   "execution_count": 11,
   "metadata": {},
   "outputs": [
    {
     "name": "stdout",
     "output_type": "stream",
     "text": [
      "Enter any number3\n",
      "Odd\n"
     ]
    }
   ],
   "source": [
    "a=int(input('Enter any number'))\n",
    "if a%2==0:\n",
    "    print('Even')\n",
    "else:\n",
    "    print('Odd')"
   ]
  },
  {
   "cell_type": "code",
   "execution_count": 12,
   "metadata": {},
   "outputs": [
    {
     "name": "stdout",
     "output_type": "stream",
     "text": [
      "Enter any year4\n",
      "Leap year\n"
     ]
    }
   ],
   "source": [
    "a=int(input('Enter any year'))\n",
    "if a%4==0:\n",
    "    print('Leap year')\n",
    "elif a<0:\n",
    "    print('Not a leap year')"
   ]
  },
  {
   "cell_type": "code",
   "execution_count": 13,
   "metadata": {},
   "outputs": [
    {
     "name": "stdout",
     "output_type": "stream",
     "text": [
      "Enter any number5\n",
      "Enter any number3\n",
      "Enter any number5\n",
      "C is largest\n"
     ]
    }
   ],
   "source": [
    "a=int(input('Enter any number'))\n",
    "b=int(input('Enter any number'))\n",
    "c=int(input('Enter any number'))\n",
    "if a>b and a>c:\n",
    "    print('A is largest')\n",
    "elif b>a and b>c:\n",
    "    print('B is largest')\n",
    "else:\n",
    "    print('C is largest')"
   ]
  },
  {
   "cell_type": "code",
   "execution_count": 14,
   "metadata": {},
   "outputs": [
    {
     "name": "stdout",
     "output_type": "stream",
     "text": [
      "Enter any number23\n",
      "Prime number\n"
     ]
    }
   ],
   "source": [
    "a=int(input('Enter any number'))\n",
    "if a>1:\n",
    "    for i in range(2,int(a/2)+1):\n",
    "        if a%i==0:\n",
    "            print('Not a prime number')\n",
    "            break\n",
    "    else:\n",
    "            print('Prime number')\n",
    "else:\n",
    "    print('Not prime')"
   ]
  },
  {
   "cell_type": "code",
   "execution_count": 15,
   "metadata": {},
   "outputs": [
    {
     "name": "stdout",
     "output_type": "stream",
     "text": [
      "2\n",
      "3\n",
      "5\n",
      "7\n",
      "11\n",
      "13\n",
      "17\n",
      "19\n",
      "23\n",
      "29\n",
      "31\n",
      "37\n",
      "41\n",
      "43\n",
      "47\n",
      "53\n",
      "59\n",
      "61\n",
      "67\n",
      "71\n",
      "73\n",
      "79\n",
      "83\n",
      "89\n",
      "97\n"
     ]
    }
   ],
   "source": [
    "\n",
    "for a in range(1,100):\n",
    "    if a>1:\n",
    "        for i in range(2,a):\n",
    "            if a%i==0:\n",
    "                break\n",
    "        else:\n",
    "            print(a)\n"
   ]
  },
  {
   "cell_type": "code",
   "execution_count": 16,
   "metadata": {},
   "outputs": [
    {
     "name": "stdout",
     "output_type": "stream",
     "text": [
      "Enter any number23\n",
      "25852016738884976640000\n"
     ]
    }
   ],
   "source": [
    "a=int(input('Enter any number'))\n",
    "fact=1\n",
    "if a==0:\n",
    "    print('Factorial is 1')\n",
    "elif a<0:\n",
    "    print('Please enter a positive number')\n",
    "else:\n",
    "    for i in range(1,a+1):\n",
    "        fact=fact*i\n",
    "    print(fact)\n"
   ]
  },
  {
   "cell_type": "code",
   "execution_count": 17,
   "metadata": {},
   "outputs": [
    {
     "name": "stdout",
     "output_type": "stream",
     "text": [
      "Enter any number2\n",
      "2\n",
      "4\n",
      "6\n",
      "8\n",
      "10\n",
      "12\n",
      "14\n",
      "16\n",
      "18\n",
      "20\n"
     ]
    }
   ],
   "source": [
    "a=int(input('Enter any number'))\n",
    "op=1\n",
    "for i in range(1,11):\n",
    "    print(a*i)"
   ]
  },
  {
   "cell_type": "code",
   "execution_count": 18,
   "metadata": {},
   "outputs": [
    {
     "name": "stdout",
     "output_type": "stream",
     "text": [
      "Enter any number32\n",
      "0\n",
      "1\n",
      "1\n",
      "2\n",
      "3\n",
      "5\n",
      "8\n",
      "13\n",
      "21\n",
      "34\n",
      "55\n",
      "89\n",
      "144\n",
      "233\n",
      "377\n",
      "610\n",
      "987\n",
      "1597\n",
      "2584\n",
      "4181\n",
      "6765\n",
      "10946\n",
      "17711\n",
      "28657\n",
      "46368\n",
      "75025\n",
      "121393\n",
      "196418\n",
      "317811\n",
      "514229\n",
      "832040\n",
      "1346269\n"
     ]
    }
   ],
   "source": [
    "a=int(input('Enter any number'))\n",
    "x1=0\n",
    "x2=1\n",
    "c=0\n",
    "if a==1:\n",
    "    print(x1)\n",
    "elif a<1:\n",
    "    print('Enter a positive number')\n",
    "else:\n",
    "    while c<a:\n",
    "        print(x1)\n",
    "        x=x1+x2\n",
    "        x1=x2\n",
    "        x2=x\n",
    "        c+=1 #fib"
   ]
  },
  {
   "cell_type": "code",
   "execution_count": 19,
   "metadata": {},
   "outputs": [
    {
     "name": "stdout",
     "output_type": "stream",
     "text": [
      "Enter any number434\n",
      "Not Armstrong\n"
     ]
    }
   ],
   "source": [
    "a=int(input('Enter any number'))\n",
    "sum=0\n",
    "c=a\n",
    "while c>0:\n",
    "    x=c%10\n",
    "    sum+=x**3\n",
    "    c=c//10\n",
    "if a==sum:\n",
    "    print('Armstrong')\n",
    "else:\n",
    "    print('Not Armstrong')\n",
    "    "
   ]
  },
  {
   "cell_type": "code",
   "execution_count": 23,
   "metadata": {},
   "outputs": [
    {
     "name": "stdout",
     "output_type": "stream",
     "text": [
      "153\n",
      "370\n",
      "371\n",
      "407\n"
     ]
    }
   ],
   "source": [
    "\n",
    "\n",
    "\n",
    "for i in range(100,1000):\n",
    "    order=len(str(i))\n",
    "    sum=0\n",
    "    c=i\n",
    "    while c>0:\n",
    "        x=c%10\n",
    "        sum+=x**3\n",
    "        c=c//10\n",
    "    if i==sum:\n",
    "        print(i)\n",
    "    #arm series\n",
    "    "
   ]
  },
  {
   "cell_type": "code",
   "execution_count": 24,
   "metadata": {},
   "outputs": [
    {
     "name": "stdout",
     "output_type": "stream",
     "text": [
      "Enter any number5\n",
      "15\n"
     ]
    }
   ],
   "source": [
    "a=int(input('Enter any number'))\n",
    "if a<0:\n",
    "    print('Enter a positive num')\n",
    "else:\n",
    "    sum=0\n",
    "    while(a>0):\n",
    "        sum+=a\n",
    "        a-=1\n",
    "    print(sum)"
   ]
  },
  {
   "cell_type": "code",
   "execution_count": 26,
   "metadata": {},
   "outputs": [
    {
     "name": "stdout",
     "output_type": "stream",
     "text": [
      "2 raised to the power 0 is 1\n",
      "2 raised to the power 1 is 2\n",
      "2 raised to the power 2 is 4\n",
      "2 raised to the power 3 is 8\n",
      "2 raised to the power 4 is 16\n",
      "2 raised to the power 5 is 32\n",
      "2 raised to the power 6 is 64\n",
      "2 raised to the power 7 is 128\n",
      "2 raised to the power 8 is 256\n",
      "2 raised to the power 9 is 512\n"
     ]
    }
   ],
   "source": [
    "n=10\n",
    "final_list= list(map(lambda x: 2**x,range(n)))\n",
    "for i in range(n):\n",
    "    print('2 raised to the power',i,'is',final_list[i])"
   ]
  },
  {
   "cell_type": "code",
   "execution_count": 6,
   "metadata": {},
   "outputs": [
    {
     "name": "stdout",
     "output_type": "stream",
     "text": [
      "[10]\n"
     ]
    }
   ],
   "source": [
    "l=[10,32,232,32,21,4,53]\n",
    "op=list(filter(lambda x:(x%5==0),l))\n",
    "print(op)"
   ]
  },
  {
   "cell_type": "code",
   "execution_count": 7,
   "metadata": {},
   "outputs": [
    {
     "name": "stdout",
     "output_type": "stream",
     "text": [
      "Enter any number4\n",
      "Binary 0b100 Octal 0o4 Hexadecimal 0x4\n"
     ]
    }
   ],
   "source": [
    "a=int(input('Enter any number'))\n",
    "b=bin(a)\n",
    "o=oct(a)\n",
    "h=hex(a)\n",
    "print('Binary',b,'Octal',o,'Hexadecimal',h)"
   ]
  },
  {
   "cell_type": "code",
   "execution_count": 8,
   "metadata": {},
   "outputs": [
    {
     "name": "stdout",
     "output_type": "stream",
     "text": [
      "Enter letterA\n",
      "65\n"
     ]
    }
   ],
   "source": [
    "a=input('Enter letter')\n",
    "b=ord(a)\n",
    "print(b)\n"
   ]
  },
  {
   "cell_type": "code",
   "execution_count": 9,
   "metadata": {},
   "outputs": [
    {
     "name": "stdout",
     "output_type": "stream",
     "text": [
      "The gcd of 50 and 20 is : 10\n"
     ]
    }
   ],
   "source": [
    "def gcd(a, b):\n",
    "    if(b == 0):\n",
    "        return a\n",
    "    else:\n",
    "        return gcd(b, a % b)\n",
    "  \n",
    "a = 50\n",
    "b = 20\n",
    "print(\"The gcd of 50 and 20 is : \", end=\"\")\n",
    "print(gcd(50, 20))"
   ]
  },
  {
   "cell_type": "code",
   "execution_count": 10,
   "metadata": {},
   "outputs": [
    {
     "name": "stdout",
     "output_type": "stream",
     "text": [
      "Enter any number6\n",
      "Enter any number5\n"
     ]
    },
    {
     "data": {
      "text/plain": [
       "30"
      ]
     },
     "execution_count": 10,
     "metadata": {},
     "output_type": "execute_result"
    }
   ],
   "source": [
    "def lcm(a,b):\n",
    "    if a>b:\n",
    "        greater=a\n",
    "    else:\n",
    "        greater=b\n",
    "    while(True):\n",
    "        if((greater%a==0) and (greater%b==0)):\n",
    "            lcm=greater\n",
    "            break\n",
    "        greater=greater+1\n",
    "    return lcm\n",
    "x=int(input('Enter any number'))\n",
    "y=int(input('Enter any number'))\n",
    "lcm(x,y)"
   ]
  },
  {
   "cell_type": "code",
   "execution_count": 14,
   "metadata": {},
   "outputs": [
    {
     "name": "stdout",
     "output_type": "stream",
     "text": [
      "1\n",
      "2\n",
      "3\n",
      "5\n",
      "6\n",
      "10\n",
      "15\n",
      "30\n"
     ]
    }
   ],
   "source": [
    "def factors(n):\n",
    "    i=1\n",
    "    while i<=n:\n",
    "        if(n%i==0):\n",
    "            print(i)\n",
    "        i=i+1\n",
    "a=30\n",
    "factors(a)"
   ]
  },
  {
   "cell_type": "code",
   "execution_count": 2,
   "metadata": {},
   "outputs": [
    {
     "name": "stdout",
     "output_type": "stream",
     "text": [
      "15\n",
      "5\n",
      "50\n",
      "2.0\n"
     ]
    }
   ],
   "source": [
    "def add(x,y):\n",
    "    a= x+y\n",
    "    print(a)\n",
    "def sub(x,y):\n",
    "    a= x-y\n",
    "    print(a)\n",
    "def mul(x,y):\n",
    "    a= x*y\n",
    "    print(a)\n",
    "def div(x,y):\n",
    "    a= x/y\n",
    "    print(a)\n",
    "add(10,5)\n",
    "sub(10,5)\n",
    "mul(10,5)\n",
    "div(10,5)"
   ]
  },
  {
   "cell_type": "code",
   "execution_count": 3,
   "metadata": {},
   "outputs": [
    {
     "name": "stdout",
     "output_type": "stream",
     "text": [
      "10 Diamonds\n",
      "4 Hearts\n",
      "4 Club\n",
      "11 Spades\n",
      "11 Hearts\n"
     ]
    }
   ],
   "source": [
    "import itertools\n",
    "import random\n",
    "card_list= list(itertools.product(range(1,14),['Hearts','Diamonds','Spades','Club']))\n",
    "random.shuffle(card_list)\n",
    "for i in range(5):\n",
    "    print(card_list[i][0],card_list[i][1])"
   ]
  },
  {
   "cell_type": "code",
   "execution_count": 1,
   "metadata": {},
   "outputs": [
    {
     "name": "stdout",
     "output_type": "stream",
     "text": [
      "Enter year: 2021\n",
      "Enter month: 9\n",
      "   September 2021\n",
      "Mo Tu We Th Fr Sa Su\n",
      "       1  2  3  4  5\n",
      " 6  7  8  9 10 11 12\n",
      "13 14 15 16 17 18 19\n",
      "20 21 22 23 24 25 26\n",
      "27 28 29 30\n",
      "\n"
     ]
    }
   ],
   "source": [
    "import calendar\n",
    "yy = int(input(\"Enter year: \"))\n",
    "mm = int(input(\"Enter month: \"))\n",
    "print(calendar.month(yy, mm))"
   ]
  },
  {
   "cell_type": "code",
   "execution_count": 3,
   "metadata": {},
   "outputs": [
    {
     "name": "stdout",
     "output_type": "stream",
     "text": [
      "0\n",
      "1\n",
      "1\n",
      "2\n",
      "3\n",
      "5\n",
      "8\n",
      "13\n",
      "21\n",
      "34\n"
     ]
    }
   ],
   "source": [
    "def fib(n):\n",
    "   if n <= 1:\n",
    "       return n\n",
    "   else:\n",
    "       return(fib(n-1) + fib(n-2))\n",
    "nterms = 10\n",
    "if nterms <= 0:\n",
    "   print(\"Plese enter a positive integer\")\n",
    "else:\n",
    "   for i in range(nterms):\n",
    "       print(fib(i))"
   ]
  },
  {
   "cell_type": "code",
   "execution_count": 4,
   "metadata": {},
   "outputs": [
    {
     "name": "stdout",
     "output_type": "stream",
     "text": [
      "378\n"
     ]
    }
   ],
   "source": [
    "def sum(n):\n",
    "   if n <= 1:\n",
    "       return n\n",
    "   else:\n",
    "       return n + sum(n-1)\n",
    "num = 27\n",
    "if num < 0:\n",
    "   print(\"Enter a positive number\")\n",
    "else:\n",
    "   print(sum(num))"
   ]
  },
  {
   "cell_type": "code",
   "execution_count": 6,
   "metadata": {},
   "outputs": [
    {
     "name": "stdout",
     "output_type": "stream",
     "text": [
      "120\n"
     ]
    }
   ],
   "source": [
    "def fact(n):\n",
    "   if n == 1:\n",
    "       return n\n",
    "   else:\n",
    "       return n*fact(n-1)\n",
    "num = 5\n",
    "if num < 0:\n",
    "   print(\"Enter a positive number\")\n",
    "elif num == 0:\n",
    "   print(\"The factorial of 0 is 1\")\n",
    "else:\n",
    "   print(fact(num))\n"
   ]
  },
  {
   "cell_type": "code",
   "execution_count": 7,
   "metadata": {},
   "outputs": [
    {
     "name": "stdout",
     "output_type": "stream",
     "text": [
      "10110\n"
     ]
    }
   ],
   "source": [
    "def bin(n):\n",
    "   if n > 1:\n",
    "       bin(n//2)\n",
    "   print(n % 2,end = '')\n",
    "n = 22\n",
    "bin(n)\n",
    "print()"
   ]
  },
  {
   "cell_type": "code",
   "execution_count": 9,
   "metadata": {},
   "outputs": [
    {
     "name": "stdout",
     "output_type": "stream",
     "text": [
      "[11, 13, 15]\n",
      "[17, 19, 21]\n",
      "[23, 25, 27]\n"
     ]
    }
   ],
   "source": [
    "A = [[1,2,3],\n",
    "    [4 ,5,6],\n",
    "    [7 ,8,9]]\n",
    "\n",
    "B = [[10,11,12],\n",
    "    [13,14,15],\n",
    "    [16,17,18]]\n",
    "\n",
    "result = [[0,0,0],\n",
    "         [0,0,0],\n",
    "         [0,0,0]]\n",
    "for i in range(len(A)):\n",
    "   for j in range(len(A[0])):\n",
    "       result[i][j] = A[i][j] + B[i][j]\n",
    "for r in result:\n",
    "   print(r)"
   ]
  },
  {
   "cell_type": "code",
   "execution_count": 11,
   "metadata": {},
   "outputs": [
    {
     "name": "stdout",
     "output_type": "stream",
     "text": [
      "[[1 2 3]\n",
      " [4 5 6]\n",
      " [7 8 9]]\n",
      "\n",
      "[[1 4 7]\n",
      " [2 5 8]\n",
      " [3 6 9]]\n"
     ]
    }
   ],
   "source": [
    "import numpy as np\n",
    "arr = np.array([[1, 2, 3],\n",
    "                [4, 5, 6],\n",
    "                [7, 8, 9]])\n",
    "print(arr, end ='\\n\\n') \n",
    "#after\n",
    "print(arr.transpose())"
   ]
  },
  {
   "cell_type": "code",
   "execution_count": 12,
   "metadata": {},
   "outputs": [
    {
     "name": "stdout",
     "output_type": "stream",
     "text": [
      "[10, 22, 36]\n",
      "[52, 70, 90]\n",
      "[112, 136, 162]\n"
     ]
    }
   ],
   "source": [
    "A = [[1,2,3],\n",
    "    [4 ,5,6],\n",
    "    [7 ,8,9]]\n",
    "\n",
    "B = [[10,11,12],\n",
    "    [13,14,15],\n",
    "    [16,17,18]]\n",
    "\n",
    "result = [[0,0,0],\n",
    "         [0,0,0],\n",
    "         [0,0,0]]\n",
    "for i in range(len(A)):\n",
    "   for j in range(len(A[0])):\n",
    "       result[i][j] = A[i][j] * B[i][j]\n",
    "for r in result:\n",
    "   print(r)"
   ]
  },
  {
   "cell_type": "code",
   "execution_count": 14,
   "metadata": {},
   "outputs": [
    {
     "name": "stdout",
     "output_type": "stream",
     "text": [
      "Enter a wordaba\n",
      "Yes\n"
     ]
    }
   ],
   "source": [
    "def isPalindrome(s):\n",
    "    return ch == ch[::-1]\n",
    "ch =input('Enter a word')\n",
    "ans = isPalindrome(ch)\n",
    "if ans:\n",
    "    print(\"Yes\")\n",
    "else:\n",
    "    print(\"No\")"
   ]
  },
  {
   "cell_type": "code",
   "execution_count": 23,
   "metadata": {},
   "outputs": [
    {
     "name": "stdout",
     "output_type": "stream",
     "text": [
      "original string is : hello, good morning! ;\n",
      "The string after removing punctuation marks is : hello good morning \n"
     ]
    }
   ],
   "source": [
    "str = \"hello, good morning! ;\"\n",
    "print(\"original string is : \" + str)\n",
    "punc = '''!()-[]{};:'\"\\,<>./?@#$%^&*_~'''\n",
    "for i in str:\n",
    "    if i in punc:\n",
    "        str = str.replace(i, \"\")\n",
    "print(\"The string after removing punctuation marks is : \" + str)\n"
   ]
  },
  {
   "cell_type": "code",
   "execution_count": 25,
   "metadata": {},
   "outputs": [
    {
     "name": "stdout",
     "output_type": "stream",
     "text": [
      "The sorted words are:\n",
      "am\n",
      "hello\n",
      "i\n",
      "pragati\n"
     ]
    }
   ],
   "source": [
    "str = \"Hello I am Pragati\"\n",
    "words = [word.lower() for word in str.split()]\n",
    "words.sort()\n",
    "print(\"The sorted words are:\")\n",
    "for word in words:\n",
    "   print(word)\n"
   ]
  },
  {
   "cell_type": "code",
   "execution_count": 26,
   "metadata": {},
   "outputs": [
    {
     "name": "stdout",
     "output_type": "stream",
     "text": [
      "Union of E and N is {0, 1, 2, 3, 4, 5, 6, 8}\n",
      "Intersection of E and N is {2, 4}\n",
      "Difference of E and N is {0, 8, 6}\n",
      "Symmetric difference of E and N is {0, 1, 3, 5, 6, 8}\n"
     ]
    }
   ],
   "source": [
    "A = {0, 2, 4, 6, 8};\n",
    "B = {1, 2, 3, 4, 5};\n",
    "print(\"Union of E and N is\",A | B)\n",
    "print(\"Intersection of E and N is\",A & B)\n",
    "print(\"Difference of E and N is\",A- B)\n",
    "print(\"Symmetric difference of E and N is\",A ^ B)\n"
   ]
  },
  {
   "cell_type": "code",
   "execution_count": 28,
   "metadata": {},
   "outputs": [
    {
     "name": "stdout",
     "output_type": "stream",
     "text": [
      "{'a': 3, 'e': 1, 'i': 2, 'o': 1, 'u': 0}\n"
     ]
    }
   ],
   "source": [
    "vowels = 'aeiou'\n",
    "str = 'Hello, I am Pragati'\n",
    "str = str.casefold()\n",
    "count = {}.fromkeys(vowels,0)\n",
    "for char in str:\n",
    "   if char in count:\n",
    "       count[char] += 1\n",
    "print(count)\n"
   ]
  },
  {
   "cell_type": "code",
   "execution_count": 31,
   "metadata": {},
   "outputs": [
    {
     "ename": "FileNotFoundError",
     "evalue": "[Errno 2] No such file or directory: 'xyz.png'",
     "output_type": "error",
     "traceback": [
      "\u001b[1;31m---------------------------------------------------------------------------\u001b[0m",
      "\u001b[1;31mFileNotFoundError\u001b[0m                         Traceback (most recent call last)",
      "\u001b[1;32m<ipython-input-31-8906f794d6c0>\u001b[0m in \u001b[0;36m<module>\u001b[1;34m\u001b[0m\n\u001b[0;32m      1\u001b[0m \u001b[1;32mimport\u001b[0m \u001b[0mPIL\u001b[0m\u001b[1;33m\u001b[0m\u001b[1;33m\u001b[0m\u001b[0m\n\u001b[0;32m      2\u001b[0m \u001b[1;32mfrom\u001b[0m \u001b[0mPIL\u001b[0m \u001b[1;32mimport\u001b[0m \u001b[0mImage\u001b[0m\u001b[1;33m\u001b[0m\u001b[1;33m\u001b[0m\u001b[0m\n\u001b[1;32m----> 3\u001b[1;33m \u001b[0mimg\u001b[0m \u001b[1;33m=\u001b[0m \u001b[0mPIL\u001b[0m\u001b[1;33m.\u001b[0m\u001b[0mImage\u001b[0m\u001b[1;33m.\u001b[0m\u001b[0mopen\u001b[0m\u001b[1;33m(\u001b[0m\u001b[1;34m\"xyz.png\"\u001b[0m\u001b[1;33m)\u001b[0m\u001b[1;33m\u001b[0m\u001b[1;33m\u001b[0m\u001b[0m\n\u001b[0m\u001b[0;32m      4\u001b[0m \u001b[0mwidth\u001b[0m\u001b[1;33m,\u001b[0m \u001b[0mheight\u001b[0m \u001b[1;33m=\u001b[0m \u001b[0mimg\u001b[0m\u001b[1;33m.\u001b[0m\u001b[0msize\u001b[0m\u001b[1;33m\u001b[0m\u001b[1;33m\u001b[0m\u001b[0m\n\u001b[0;32m      5\u001b[0m \u001b[0mprint\u001b[0m\u001b[1;33m(\u001b[0m\u001b[0mstr\u001b[0m\u001b[1;33m(\u001b[0m\u001b[0mwidth\u001b[0m\u001b[1;33m)\u001b[0m \u001b[1;33m+\u001b[0m \u001b[1;34m\"x\"\u001b[0m \u001b[1;33m+\u001b[0m \u001b[0mstr\u001b[0m\u001b[1;33m(\u001b[0m\u001b[0mheight\u001b[0m\u001b[1;33m)\u001b[0m\u001b[1;33m)\u001b[0m\u001b[1;33m\u001b[0m\u001b[1;33m\u001b[0m\u001b[0m\n",
      "\u001b[1;32m~\\anaconda3\\lib\\site-packages\\PIL\\Image.py\u001b[0m in \u001b[0;36mopen\u001b[1;34m(fp, mode)\u001b[0m\n\u001b[0;32m   2807\u001b[0m \u001b[1;33m\u001b[0m\u001b[0m\n\u001b[0;32m   2808\u001b[0m     \u001b[1;32mif\u001b[0m \u001b[0mfilename\u001b[0m\u001b[1;33m:\u001b[0m\u001b[1;33m\u001b[0m\u001b[1;33m\u001b[0m\u001b[0m\n\u001b[1;32m-> 2809\u001b[1;33m         \u001b[0mfp\u001b[0m \u001b[1;33m=\u001b[0m \u001b[0mbuiltins\u001b[0m\u001b[1;33m.\u001b[0m\u001b[0mopen\u001b[0m\u001b[1;33m(\u001b[0m\u001b[0mfilename\u001b[0m\u001b[1;33m,\u001b[0m \u001b[1;34m\"rb\"\u001b[0m\u001b[1;33m)\u001b[0m\u001b[1;33m\u001b[0m\u001b[1;33m\u001b[0m\u001b[0m\n\u001b[0m\u001b[0;32m   2810\u001b[0m         \u001b[0mexclusive_fp\u001b[0m \u001b[1;33m=\u001b[0m \u001b[1;32mTrue\u001b[0m\u001b[1;33m\u001b[0m\u001b[1;33m\u001b[0m\u001b[0m\n\u001b[0;32m   2811\u001b[0m \u001b[1;33m\u001b[0m\u001b[0m\n",
      "\u001b[1;31mFileNotFoundError\u001b[0m: [Errno 2] No such file or directory: 'xyz.png'"
     ]
    }
   ],
   "source": [
    "import PIL\n",
    "from PIL import Image\n",
    "img = PIL.Image.open(\"xyz.png\")\n",
    "width, height = img.size\n",
    "print(str(width) + \"x\" + str(height))\n",
    "#you can pass the name of image respectively."
   ]
  },
  {
   "cell_type": "code",
   "execution_count": 33,
   "metadata": {},
   "outputs": [
    {
     "name": "stdout",
     "output_type": "stream",
     "text": [
      "   A \n",
      "  A B \n",
      " A B C \n",
      "A B C D \n"
     ]
    }
   ],
   "source": [
    "str='ABCD'\n",
    "length=4\n",
    "for i in range(length):\n",
    "    for j in range(length-i-1):\n",
    "        print(\" \",end=\"\")\n",
    "    for j in range(i+1):\n",
    "        print(str[j],end=\" \")\n",
    "    print()"
   ]
  },
  {
   "cell_type": "code",
   "execution_count": 35,
   "metadata": {},
   "outputs": [
    {
     "name": "stdout",
     "output_type": "stream",
     "text": [
      "None\n",
      "{'c': 3, 'd': 4, 'a': 1, 'b': 2}\n"
     ]
    }
   ],
   "source": [
    "def mer(dict1,dict2):\n",
    "    return(dict2.update(dict1))\n",
    "dict1={'a':1,'b':2}\n",
    "dict2={'c':3,'d':4}\n",
    "print(mer(dict1,dict2))\n",
    "print(dict2)"
   ]
  },
  {
   "cell_type": "code",
   "execution_count": 36,
   "metadata": {},
   "outputs": [
    {
     "name": "stdout",
     "output_type": "stream",
     "text": [
      "0 10\n",
      "1 20\n",
      "2 30\n",
      "3 40\n"
     ]
    }
   ],
   "source": [
    "l=[10,20,30,40]\n",
    "for i,val in enumerate(l):\n",
    "    print(i,val)"
   ]
  },
  {
   "cell_type": "code",
   "execution_count": 37,
   "metadata": {},
   "outputs": [
    {
     "name": "stdout",
     "output_type": "stream",
     "text": [
      "[1, 2, 3, 4, 5]\n",
      "[2, 3, 4, 5]\n",
      "[1, 2]\n",
      "[5, 4, 3, 2, 1]\n",
      "[2, 3, 4]\n",
      "[1, 3, 5]\n",
      "[2, 4]\n"
     ]
    }
   ],
   "source": [
    "l=[1,2,3,4,5]\n",
    "print(l[:])\n",
    "print(l[1:])\n",
    "print(l[:2])\n",
    "print(l[::-1])\n",
    "print(l[1:4])\n",
    "print(l[::2])\n",
    "print(l[1:4:2])"
   ]
  },
  {
   "cell_type": "code",
   "execution_count": 38,
   "metadata": {},
   "outputs": [
    {
     "name": "stdout",
     "output_type": "stream",
     "text": [
      "HellO\n"
     ]
    }
   ],
   "source": [
    "def rem(str):\n",
    "    return str.replace(\" \",\"\")\n",
    "str='H ell O'\n",
    "print(rem(str))"
   ]
  },
  {
   "cell_type": "code",
   "execution_count": 39,
   "metadata": {},
   "outputs": [
    {
     "name": "stdout",
     "output_type": "stream",
     "text": [
      "h e l l o\n"
     ]
    }
   ],
   "source": [
    "l=['h','e','l','l','o']\n",
    "print(*l)"
   ]
  },
  {
   "cell_type": "code",
   "execution_count": null,
   "metadata": {},
   "outputs": [],
   "source": []
  }
 ],
 "metadata": {
  "kernelspec": {
   "display_name": "Python 3",
   "language": "python",
   "name": "python3"
  },
  "language_info": {
   "codemirror_mode": {
    "name": "ipython",
    "version": 3
   },
   "file_extension": ".py",
   "mimetype": "text/x-python",
   "name": "python",
   "nbconvert_exporter": "python",
   "pygments_lexer": "ipython3",
   "version": "3.7.6"
  }
 },
 "nbformat": 4,
 "nbformat_minor": 4
}
